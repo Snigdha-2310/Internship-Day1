{
 "cells": [
  {
   "cell_type": "code",
   "execution_count": 1,
   "id": "b35d5565",
   "metadata": {},
   "outputs": [],
   "source": [
    "# Netflix Titles - Data Cleaning and Preprocessing\n",
    "\n",
    "# Step 1: Import required libraries\n",
    "import pandas as pd\n",
    "import numpy as np\n"
   ]
  },
  {
   "cell_type": "code",
   "execution_count": 2,
   "id": "f2562329",
   "metadata": {},
   "outputs": [],
   "source": [
    "\n",
    "# Step 2: Load the dataset\n",
    "df = pd.read_csv('netflix_titles.csv')"
   ]
  },
  {
   "cell_type": "code",
   "execution_count": 3,
   "id": "f09920fc",
   "metadata": {},
   "outputs": [
    {
     "name": "stdout",
     "output_type": "stream",
     "text": [
      "Initial Dataset Info:\n",
      "<class 'pandas.core.frame.DataFrame'>\n",
      "RangeIndex: 8807 entries, 0 to 8806\n",
      "Data columns (total 12 columns):\n",
      " #   Column        Non-Null Count  Dtype \n",
      "---  ------        --------------  ----- \n",
      " 0   show_id       8807 non-null   object\n",
      " 1   type          8807 non-null   object\n",
      " 2   title         8807 non-null   object\n",
      " 3   director      6173 non-null   object\n",
      " 4   cast          7982 non-null   object\n",
      " 5   country       7976 non-null   object\n",
      " 6   date_added    8797 non-null   object\n",
      " 7   release_year  8807 non-null   int64 \n",
      " 8   rating        8803 non-null   object\n",
      " 9   duration      8804 non-null   object\n",
      " 10  listed_in     8807 non-null   object\n",
      " 11  description   8807 non-null   object\n",
      "dtypes: int64(1), object(11)\n",
      "memory usage: 825.8+ KB\n",
      "None\n",
      "\n",
      "Missing Values per Column:\n",
      "show_id            0\n",
      "type               0\n",
      "title              0\n",
      "director        2634\n",
      "cast             825\n",
      "country          831\n",
      "date_added        10\n",
      "release_year       0\n",
      "rating             4\n",
      "duration           3\n",
      "listed_in          0\n",
      "description        0\n",
      "dtype: int64\n"
     ]
    }
   ],
   "source": [
    "# Step 3: Initial overview\n",
    "print(\"Initial Dataset Info:\")\n",
    "print(df.info())\n",
    "print(\"\\nMissing Values per Column:\")\n",
    "print(df.isnull().sum())"
   ]
  },
  {
   "cell_type": "code",
   "execution_count": 4,
   "id": "5a5a0fea",
   "metadata": {},
   "outputs": [
    {
     "name": "stderr",
     "output_type": "stream",
     "text": [
      "/tmp/ipykernel_9139/2405572220.py:2: FutureWarning: A value is trying to be set on a copy of a DataFrame or Series through chained assignment using an inplace method.\n",
      "The behavior will change in pandas 3.0. This inplace method will never work because the intermediate object on which we are setting values always behaves as a copy.\n",
      "\n",
      "For example, when doing 'df[col].method(value, inplace=True)', try using 'df.method({col: value}, inplace=True)' or df[col] = df[col].method(value) instead, to perform the operation inplace on the original object.\n",
      "\n",
      "\n",
      "  df['director'].fillna('Unknown', inplace=True)\n",
      "/tmp/ipykernel_9139/2405572220.py:3: FutureWarning: A value is trying to be set on a copy of a DataFrame or Series through chained assignment using an inplace method.\n",
      "The behavior will change in pandas 3.0. This inplace method will never work because the intermediate object on which we are setting values always behaves as a copy.\n",
      "\n",
      "For example, when doing 'df[col].method(value, inplace=True)', try using 'df.method({col: value}, inplace=True)' or df[col] = df[col].method(value) instead, to perform the operation inplace on the original object.\n",
      "\n",
      "\n",
      "  df['cast'].fillna('Not Available', inplace=True)\n",
      "/tmp/ipykernel_9139/2405572220.py:4: FutureWarning: A value is trying to be set on a copy of a DataFrame or Series through chained assignment using an inplace method.\n",
      "The behavior will change in pandas 3.0. This inplace method will never work because the intermediate object on which we are setting values always behaves as a copy.\n",
      "\n",
      "For example, when doing 'df[col].method(value, inplace=True)', try using 'df.method({col: value}, inplace=True)' or df[col] = df[col].method(value) instead, to perform the operation inplace on the original object.\n",
      "\n",
      "\n",
      "  df['country'].fillna('Unknown', inplace=True)\n",
      "/tmp/ipykernel_9139/2405572220.py:5: FutureWarning: A value is trying to be set on a copy of a DataFrame or Series through chained assignment using an inplace method.\n",
      "The behavior will change in pandas 3.0. This inplace method will never work because the intermediate object on which we are setting values always behaves as a copy.\n",
      "\n",
      "For example, when doing 'df[col].method(value, inplace=True)', try using 'df.method({col: value}, inplace=True)' or df[col] = df[col].method(value) instead, to perform the operation inplace on the original object.\n",
      "\n",
      "\n",
      "  df['date_added'].fillna('Unknown', inplace=True)\n"
     ]
    }
   ],
   "source": [
    "\n",
    "# Step 4: Handle missing values\n",
    "df['director'].fillna('Unknown', inplace=True)\n",
    "df['cast'].fillna('Not Available', inplace=True)\n",
    "df['country'].fillna('Unknown', inplace=True)\n",
    "df['date_added'].fillna('Unknown', inplace=True)\n"
   ]
  },
  {
   "cell_type": "code",
   "execution_count": 5,
   "id": "b12587eb",
   "metadata": {},
   "outputs": [
    {
     "name": "stdout",
     "output_type": "stream",
     "text": [
      "Number of duplicate rows: 0\n"
     ]
    }
   ],
   "source": [
    "# Number of duplicate rows\n",
    "num_duplicates = df.duplicated().sum()\n",
    "print(f\"Number of duplicate rows: {num_duplicates}\")\n"
   ]
  },
  {
   "cell_type": "code",
   "execution_count": 6,
   "id": "ec0a5963",
   "metadata": {},
   "outputs": [],
   "source": [
    "\n",
    "# Step 5: Remove duplicate rows\n",
    "df.drop_duplicates(inplace=True)"
   ]
  },
  {
   "cell_type": "code",
   "execution_count": 7,
   "id": "2d000441",
   "metadata": {},
   "outputs": [],
   "source": [
    "# Step 6: Standardize text fields\n",
    "df['type'] = df['type'].str.strip().str.title()\n",
    "df['country'] = df['country'].str.strip().str.title()\n",
    "df['rating'] = df['rating'].str.strip().str.upper()\n"
   ]
  },
  {
   "cell_type": "code",
   "execution_count": 8,
   "id": "2d9d3f39",
   "metadata": {},
   "outputs": [],
   "source": [
    "\n",
    "# Step 7: Convert 'date_added' to datetime format (only where not \"Unknown\")\n",
    "df['date_added'] = df['date_added'].replace('Unknown', np.nan)\n",
    "df['date_added'] = pd.to_datetime(df['date_added'], errors='coerce')"
   ]
  },
  {
   "cell_type": "code",
   "execution_count": 9,
   "id": "55b7e772",
   "metadata": {},
   "outputs": [],
   "source": [
    "\n",
    "# Step 8: Rename column headers to lowercase and replace spaces with underscores\n",
    "df.columns = df.columns.str.lower().str.replace(' ', '_')"
   ]
  },
  {
   "cell_type": "code",
   "execution_count": 10,
   "id": "23bdea1c",
   "metadata": {},
   "outputs": [],
   "source": [
    "\n",
    "# Step 9: Fix data types\n",
    "df['release_year'] = df['release_year'].astype(int)\n"
   ]
  },
  {
   "cell_type": "code",
   "execution_count": 11,
   "id": "7d99b60c",
   "metadata": {},
   "outputs": [],
   "source": [
    "df.dropna(inplace=True)\n"
   ]
  },
  {
   "cell_type": "code",
   "execution_count": 12,
   "id": "dc679025",
   "metadata": {},
   "outputs": [
    {
     "name": "stdout",
     "output_type": "stream",
     "text": [
      "\n",
      "Cleaned Dataset Info:\n",
      "<class 'pandas.core.frame.DataFrame'>\n",
      "Index: 8702 entries, 0 to 8806\n",
      "Data columns (total 12 columns):\n",
      " #   Column        Non-Null Count  Dtype         \n",
      "---  ------        --------------  -----         \n",
      " 0   show_id       8702 non-null   object        \n",
      " 1   type          8702 non-null   object        \n",
      " 2   title         8702 non-null   object        \n",
      " 3   director      8702 non-null   object        \n",
      " 4   cast          8702 non-null   object        \n",
      " 5   country       8702 non-null   object        \n",
      " 6   date_added    8702 non-null   datetime64[ns]\n",
      " 7   release_year  8702 non-null   int64         \n",
      " 8   rating        8702 non-null   object        \n",
      " 9   duration      8702 non-null   object        \n",
      " 10  listed_in     8702 non-null   object        \n",
      " 11  description   8702 non-null   object        \n",
      "dtypes: datetime64[ns](1), int64(1), object(10)\n",
      "memory usage: 883.8+ KB\n",
      "None\n",
      "\n",
      "Missing Values After Cleaning:\n",
      "show_id         0\n",
      "type            0\n",
      "title           0\n",
      "director        0\n",
      "cast            0\n",
      "country         0\n",
      "date_added      0\n",
      "release_year    0\n",
      "rating          0\n",
      "duration        0\n",
      "listed_in       0\n",
      "description     0\n",
      "dtype: int64\n"
     ]
    }
   ],
   "source": [
    "# Step 10: Final cleaned data info\n",
    "print(\"\\nCleaned Dataset Info:\")\n",
    "print(df.info())\n",
    "print(\"\\nMissing Values After Cleaning:\")\n",
    "print(df.isnull().sum())"
   ]
  },
  {
   "cell_type": "code",
   "execution_count": 13,
   "id": "1b2379ba",
   "metadata": {},
   "outputs": [],
   "source": [
    "\n",
    "# Step 11: Save the cleaned dataset\n",
    "df.to_csv('netflix_titles_cleaned.csv', index=False)"
   ]
  },
  {
   "cell_type": "code",
   "execution_count": 14,
   "id": "55878585",
   "metadata": {},
   "outputs": [],
   "source": [
    "# Step 12: Summary of changes\n",
    "summary = {\n",
    "    \"Rows in original dataset\": df.shape[0],\n",
    "    \"Nulls handled\": True,\n",
    "    \"Duplicates removed\": True,\n",
    "    \"Text columns standardized\": [\"type\", \"country\", \"rating\"],\n",
    "    \"Dates formatted\": \"date_added (datetime)\",\n",
    "    \"Column names renamed\": True,\n",
    "    \"Data types fixed\": [\"release_year\", \"date_added\"],\n",
    "}\n"
   ]
  },
  {
   "cell_type": "code",
   "execution_count": 15,
   "id": "5aa915fd",
   "metadata": {},
   "outputs": [
    {
     "name": "stdout",
     "output_type": "stream",
     "text": [
      "\n",
      " Summary of Cleaning:\n",
      "- Rows in original dataset: 8702\n",
      "- Nulls handled: True\n",
      "- Duplicates removed: True\n",
      "- Text columns standardized: ['type', 'country', 'rating']\n",
      "- Dates formatted: date_added (datetime)\n",
      "- Column names renamed: True\n",
      "- Data types fixed: ['release_year', 'date_added']\n"
     ]
    }
   ],
   "source": [
    "\n",
    "print(\"\\n Summary of Cleaning:\")\n",
    "for key, val in summary.items():\n",
    "    print(f\"- {key}: {val}\")\n"
   ]
  },
  {
   "cell_type": "code",
   "execution_count": null,
   "id": "42f3f3f4",
   "metadata": {},
   "outputs": [],
   "source": []
  }
 ],
 "metadata": {
  "kernelspec": {
   "display_name": "Python 3",
   "language": "python",
   "name": "python3"
  },
  "language_info": {
   "codemirror_mode": {
    "name": "ipython",
    "version": 3
   },
   "file_extension": ".py",
   "mimetype": "text/x-python",
   "name": "python",
   "nbconvert_exporter": "python",
   "pygments_lexer": "ipython3",
   "version": "3.12.1"
  }
 },
 "nbformat": 4,
 "nbformat_minor": 5
}
